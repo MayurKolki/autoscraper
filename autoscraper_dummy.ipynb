{
 "cells": [
  {
   "cell_type": "code",
   "execution_count": 1,
   "metadata": {},
   "outputs": [
    {
     "name": "stdout",
     "output_type": "stream",
     "text": [
      "Collecting autoscraper\n",
      "  Downloading autoscraper-1.1.12-py3-none-any.whl (10 kB)\n",
      "Requirement already satisfied: lxml in c:\\users\\mayur\\anaconda3\\lib\\site-packages (from autoscraper) (4.5.0)\n",
      "Requirement already satisfied: requests in c:\\users\\mayur\\anaconda3\\lib\\site-packages (from autoscraper) (2.22.0)\n",
      "Collecting bs4\n",
      "  Downloading bs4-0.0.1.tar.gz (1.1 kB)\n",
      "Requirement already satisfied: urllib3!=1.25.0,!=1.25.1,<1.26,>=1.21.1 in c:\\users\\mayur\\anaconda3\\lib\\site-packages (from requests->autoscraper) (1.25.8)\n",
      "Requirement already satisfied: chardet<3.1.0,>=3.0.2 in c:\\users\\mayur\\anaconda3\\lib\\site-packages (from requests->autoscraper) (3.0.4)\n",
      "Requirement already satisfied: certifi>=2017.4.17 in c:\\users\\mayur\\anaconda3\\lib\\site-packages (from requests->autoscraper) (2020.12.5)\n",
      "Requirement already satisfied: idna<2.9,>=2.5 in c:\\users\\mayur\\anaconda3\\lib\\site-packages (from requests->autoscraper) (2.8)\n",
      "Requirement already satisfied: beautifulsoup4 in c:\\users\\mayur\\anaconda3\\lib\\site-packages (from bs4->autoscraper) (4.8.2)\n",
      "Requirement already satisfied: soupsieve>=1.2 in c:\\users\\mayur\\anaconda3\\lib\\site-packages (from beautifulsoup4->bs4->autoscraper) (1.9.5)\n",
      "Building wheels for collected packages: bs4\n",
      "  Building wheel for bs4 (setup.py): started\n",
      "  Building wheel for bs4 (setup.py): finished with status 'done'\n",
      "  Created wheel for bs4: filename=bs4-0.0.1-py3-none-any.whl size=1273 sha256=a1ed7a7fc517e474b44bd9ebaaff1f9d14e84a82d4b7ed7cb6c2dea141dd1b4b\n",
      "  Stored in directory: c:\\users\\mayur\\appdata\\local\\pip\\cache\\wheels\\0a\\9e\\ba\\20e5bbc1afef3a491f0b3bb74d508f99403aabe76eda2167ca\n",
      "Successfully built bs4\n",
      "Installing collected packages: bs4, autoscraper\n",
      "Successfully installed autoscraper-1.1.12 bs4-0.0.1\n"
     ]
    }
   ],
   "source": [
    "!pip install autoscraper"
   ]
  },
  {
   "cell_type": "code",
   "execution_count": 2,
   "metadata": {},
   "outputs": [
    {
     "name": "stdout",
     "output_type": "stream",
     "text": [
      "['3', '11', '9', '1', '85', '2', '7', '363', '26', '6', '5', '49', '38', '12', '51', '16', '14', '4', '10', '54', 'Autoviz', 'Autoscrapper', 'Types-Of-Trnasformation', 'Pywebheroku', 'Car-Price-Prediction', 'Custom-object-Detection', 'Gradio', 'EVALML', 'Machine-Learning-in-90-days', 'Weather-Chatbot-Using-Luis', 'Shapash-', 'Car-PricePrediction', 'BMI-Calculator', 'PyWebIO', 'Audio-Classification', 'Malaria-Detection', 'Deep-Learning-Car-Brand', 'WaferFaultDetection', 'Phising-Classifier', 'texthero', 'Kubernet-Dockers', 'Dockers', 'Google-Dialogflow-chatbots', 'Google-Cloud-Platform-Deployment', 'AzureDeployment', 'Test', 'Image-Webscrapper', 'AQI-Deployment', 'NLP-Deployment-Heroku', 'Heroku-Demo', '8.4k', '0']\n"
     ]
    }
   ],
   "source": [
    "from autoscraper import AutoScraper\n",
    "\n",
    "url = 'https://github.com/krishnaik06?tab=repositories'\n",
    "\n",
    "# We can add one or multiple candidates here.\n",
    "# You can also put urls here to retrieve urls.\n",
    "wanted_list = [\"85\",\"Car-Price-Prediction\",\"8.4k\"]\n",
    "\n",
    "scraper = AutoScraper()\n",
    "result = scraper.build(url, wanted_list)\n",
    "print(result)"
   ]
  },
  {
   "cell_type": "code",
   "execution_count": 3,
   "metadata": {},
   "outputs": [
    {
     "data": {
      "text/plain": [
       "{'rule_v1dq': ['3',\n",
       "  '11',\n",
       "  '9',\n",
       "  '1',\n",
       "  '85',\n",
       "  '1',\n",
       "  '2',\n",
       "  '7',\n",
       "  '363',\n",
       "  '26',\n",
       "  '6',\n",
       "  '9',\n",
       "  '5',\n",
       "  '7',\n",
       "  '6',\n",
       "  '49',\n",
       "  '38',\n",
       "  '12',\n",
       "  '5',\n",
       "  '7',\n",
       "  '6',\n",
       "  '51',\n",
       "  '16',\n",
       "  '14',\n",
       "  '6',\n",
       "  '2',\n",
       "  '12',\n",
       "  '4',\n",
       "  '10',\n",
       "  '54'],\n",
       " 'rule_tma2': ['Autoviz',\n",
       "  'Autoscrapper',\n",
       "  'Types-Of-Trnasformation',\n",
       "  'Pywebheroku',\n",
       "  'Car-Price-Prediction',\n",
       "  'Custom-object-Detection',\n",
       "  'Gradio',\n",
       "  'EVALML',\n",
       "  'Machine-Learning-in-90-days',\n",
       "  'Weather-Chatbot-Using-Luis',\n",
       "  'Shapash-',\n",
       "  'Car-PricePrediction',\n",
       "  'BMI-Calculator',\n",
       "  'PyWebIO',\n",
       "  'Audio-Classification',\n",
       "  'Malaria-Detection',\n",
       "  'Deep-Learning-Car-Brand',\n",
       "  'WaferFaultDetection',\n",
       "  'Phising-Classifier',\n",
       "  'texthero',\n",
       "  'Kubernet-Dockers',\n",
       "  'Dockers',\n",
       "  'Google-Dialogflow-chatbots',\n",
       "  'Google-Cloud-Platform-Deployment',\n",
       "  'AzureDeployment',\n",
       "  'Test',\n",
       "  'Image-Webscrapper',\n",
       "  'AQI-Deployment',\n",
       "  'NLP-Deployment-Heroku',\n",
       "  'Heroku-Demo'],\n",
       " 'rule_alm2': ['8.4k', '0', '2']}"
      ]
     },
     "execution_count": 3,
     "metadata": {},
     "output_type": "execute_result"
    }
   ],
   "source": [
    "scraper.get_result_similar(\"https://github.com/krishnaik06?tab=repositories\",grouped=True)"
   ]
  },
  {
   "cell_type": "code",
   "execution_count": 5,
   "metadata": {},
   "outputs": [],
   "source": [
    "scraper.set_rule_aliases({'rule_v1dq': 'Stars', 'rule_tma2': 'Title','rule_alm2':'Followers'})\n",
    "scraper.keep_rules(['rule_v1dq', 'rule_tma2','rule_alm2'])\n",
    "scraper.save('github-repository-search')"
   ]
  },
  {
   "cell_type": "code",
   "execution_count": 6,
   "metadata": {},
   "outputs": [],
   "source": [
    "scraper.load('github-repository-search')"
   ]
  },
  {
   "cell_type": "code",
   "execution_count": 7,
   "metadata": {},
   "outputs": [],
   "source": [
    "result=scraper.get_result_similar(\"https://github.com/iNeuronai?tab=repositories\",group_by_alias=True)"
   ]
  },
  {
   "cell_type": "code",
   "execution_count": 8,
   "metadata": {},
   "outputs": [
    {
     "data": {
      "text/plain": [
       "['1.4k', '0', '0']"
      ]
     },
     "execution_count": 8,
     "metadata": {},
     "output_type": "execute_result"
    }
   ],
   "source": [
    "result['Followers']"
   ]
  },
  {
   "cell_type": "code",
   "execution_count": null,
   "metadata": {},
   "outputs": [],
   "source": []
  },
  {
   "cell_type": "code",
   "execution_count": null,
   "metadata": {},
   "outputs": [],
   "source": []
  },
  {
   "cell_type": "code",
   "execution_count": null,
   "metadata": {},
   "outputs": [],
   "source": []
  },
  {
   "cell_type": "code",
   "execution_count": null,
   "metadata": {},
   "outputs": [],
   "source": []
  },
  {
   "cell_type": "code",
   "execution_count": null,
   "metadata": {},
   "outputs": [],
   "source": []
  },
  {
   "cell_type": "code",
   "execution_count": null,
   "metadata": {},
   "outputs": [],
   "source": []
  },
  {
   "cell_type": "code",
   "execution_count": null,
   "metadata": {},
   "outputs": [],
   "source": []
  },
  {
   "cell_type": "code",
   "execution_count": null,
   "metadata": {},
   "outputs": [],
   "source": []
  },
  {
   "cell_type": "code",
   "execution_count": null,
   "metadata": {},
   "outputs": [],
   "source": []
  },
  {
   "cell_type": "code",
   "execution_count": null,
   "metadata": {},
   "outputs": [],
   "source": []
  },
  {
   "cell_type": "code",
   "execution_count": null,
   "metadata": {},
   "outputs": [],
   "source": []
  },
  {
   "cell_type": "code",
   "execution_count": null,
   "metadata": {},
   "outputs": [],
   "source": []
  },
  {
   "cell_type": "code",
   "execution_count": null,
   "metadata": {},
   "outputs": [],
   "source": []
  },
  {
   "cell_type": "code",
   "execution_count": null,
   "metadata": {},
   "outputs": [],
   "source": []
  },
  {
   "cell_type": "code",
   "execution_count": null,
   "metadata": {},
   "outputs": [],
   "source": []
  }
 ],
 "metadata": {
  "kernelspec": {
   "display_name": "Python 3",
   "language": "python",
   "name": "python3"
  },
  "language_info": {
   "codemirror_mode": {
    "name": "ipython",
    "version": 3
   },
   "file_extension": ".py",
   "mimetype": "text/x-python",
   "name": "python",
   "nbconvert_exporter": "python",
   "pygments_lexer": "ipython3",
   "version": "3.7.6"
  }
 },
 "nbformat": 4,
 "nbformat_minor": 4
}
